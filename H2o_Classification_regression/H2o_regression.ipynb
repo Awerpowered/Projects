{
  "cells": [
    {
      "cell_type": "markdown",
      "metadata": {
        "id": "d4P66ZF8lNFi"
      },
      "source": []
    },
    {
      "cell_type": "code",
      "execution_count": null,
      "metadata": {
        "colab": {
          "base_uri": "https://localhost:8080/"
        },
        "id": "hc-q5RUPlNpM",
        "outputId": "d8cb60e3-ce41-45cc-92ea-2e649845ddad"
      },
      "outputs": [
        {
          "name": "stdout",
          "output_type": "stream",
          "text": [
            "Requirement already satisfied: h2o in /usr/local/lib/python3.11/dist-packages (3.46.0.7)\n",
            "Requirement already satisfied: requests in /usr/local/lib/python3.11/dist-packages (from h2o) (2.32.3)\n",
            "Requirement already satisfied: tabulate in /usr/local/lib/python3.11/dist-packages (from h2o) (0.9.0)\n",
            "Requirement already satisfied: charset-normalizer<4,>=2 in /usr/local/lib/python3.11/dist-packages (from requests->h2o) (3.4.2)\n",
            "Requirement already satisfied: idna<4,>=2.5 in /usr/local/lib/python3.11/dist-packages (from requests->h2o) (3.10)\n",
            "Requirement already satisfied: urllib3<3,>=1.21.1 in /usr/local/lib/python3.11/dist-packages (from requests->h2o) (2.4.0)\n",
            "Requirement already satisfied: certifi>=2017.4.17 in /usr/local/lib/python3.11/dist-packages (from requests->h2o) (2025.4.26)\n"
          ]
        }
      ],
      "source": [
        "!pip install h2o"
      ]
    },
    {
      "cell_type": "code",
      "execution_count": null,
      "metadata": {
        "id": "uZ8rwX3gkmtN"
      },
      "outputs": [],
      "source": [
        "import h2o\n",
        "from h2o.automl import H2OAutoML\n",
        "import matplotlib.pyplot as plt\n",
        "import numpy as np"
      ]
    },
    {
      "cell_type": "code",
      "execution_count": null,
      "metadata": {
        "colab": {
          "base_uri": "https://localhost:8080/",
          "height": 385
        },
        "id": "VqArc7E3ltoZ",
        "outputId": "561e243f-9db4-4772-ef62-29d968790239"
      },
      "outputs": [
        {
          "name": "stdout",
          "output_type": "stream",
          "text": [
            "Checking whether there is an H2O instance running at http://localhost:54321. connected.\n"
          ]
        },
        {
          "data": {
            "text/html": [
              "\n",
              "<style>\n",
              "\n",
              "#h2o-table-4.h2o-container {\n",
              "  overflow-x: auto;\n",
              "}\n",
              "#h2o-table-4 .h2o-table {\n",
              "  /* width: 100%; */\n",
              "  margin-top: 1em;\n",
              "  margin-bottom: 1em;\n",
              "}\n",
              "#h2o-table-4 .h2o-table caption {\n",
              "  white-space: nowrap;\n",
              "  caption-side: top;\n",
              "  text-align: left;\n",
              "  /* margin-left: 1em; */\n",
              "  margin: 0;\n",
              "  font-size: larger;\n",
              "}\n",
              "#h2o-table-4 .h2o-table thead {\n",
              "  white-space: nowrap; \n",
              "  position: sticky;\n",
              "  top: 0;\n",
              "  box-shadow: 0 -1px inset;\n",
              "}\n",
              "#h2o-table-4 .h2o-table tbody {\n",
              "  overflow: auto;\n",
              "}\n",
              "#h2o-table-4 .h2o-table th,\n",
              "#h2o-table-4 .h2o-table td {\n",
              "  text-align: right;\n",
              "  /* border: 1px solid; */\n",
              "}\n",
              "#h2o-table-4 .h2o-table tr:nth-child(even) {\n",
              "  /* background: #F5F5F5 */\n",
              "}\n",
              "\n",
              "</style>      \n",
              "<div id=\"h2o-table-4\" class=\"h2o-container\">\n",
              "  <table class=\"h2o-table\">\n",
              "    <caption></caption>\n",
              "    <thead></thead>\n",
              "    <tbody><tr><td>H2O_cluster_uptime:</td>\n",
              "<td>18 mins 52 secs</td></tr>\n",
              "<tr><td>H2O_cluster_timezone:</td>\n",
              "<td>Etc/UTC</td></tr>\n",
              "<tr><td>H2O_data_parsing_timezone:</td>\n",
              "<td>UTC</td></tr>\n",
              "<tr><td>H2O_cluster_version:</td>\n",
              "<td>3.46.0.7</td></tr>\n",
              "<tr><td>H2O_cluster_version_age:</td>\n",
              "<td>2 months and 5 days</td></tr>\n",
              "<tr><td>H2O_cluster_name:</td>\n",
              "<td>H2O_from_python_unknownUser_ln7r3v</td></tr>\n",
              "<tr><td>H2O_cluster_total_nodes:</td>\n",
              "<td>1</td></tr>\n",
              "<tr><td>H2O_cluster_free_memory:</td>\n",
              "<td>3.127 Gb</td></tr>\n",
              "<tr><td>H2O_cluster_total_cores:</td>\n",
              "<td>2</td></tr>\n",
              "<tr><td>H2O_cluster_allowed_cores:</td>\n",
              "<td>2</td></tr>\n",
              "<tr><td>H2O_cluster_status:</td>\n",
              "<td>locked, healthy</td></tr>\n",
              "<tr><td>H2O_connection_url:</td>\n",
              "<td>http://localhost:54321</td></tr>\n",
              "<tr><td>H2O_connection_proxy:</td>\n",
              "<td>{\"http\": null, \"https\": null, \"colab_language_server\": \"/usr/colab/bin/language_service\"}</td></tr>\n",
              "<tr><td>H2O_internal_security:</td>\n",
              "<td>False</td></tr>\n",
              "<tr><td>Python_version:</td>\n",
              "<td>3.11.12 final</td></tr></tbody>\n",
              "  </table>\n",
              "</div>\n"
            ],
            "text/plain": [
              "--------------------------  -----------------------------------------------------------------------------------------\n",
              "H2O_cluster_uptime:         18 mins 52 secs\n",
              "H2O_cluster_timezone:       Etc/UTC\n",
              "H2O_data_parsing_timezone:  UTC\n",
              "H2O_cluster_version:        3.46.0.7\n",
              "H2O_cluster_version_age:    2 months and 5 days\n",
              "H2O_cluster_name:           H2O_from_python_unknownUser_ln7r3v\n",
              "H2O_cluster_total_nodes:    1\n",
              "H2O_cluster_free_memory:    3.127 Gb\n",
              "H2O_cluster_total_cores:    2\n",
              "H2O_cluster_allowed_cores:  2\n",
              "H2O_cluster_status:         locked, healthy\n",
              "H2O_connection_url:         http://localhost:54321\n",
              "H2O_connection_proxy:       {\"http\": null, \"https\": null, \"colab_language_server\": \"/usr/colab/bin/language_service\"}\n",
              "H2O_internal_security:      False\n",
              "Python_version:             3.11.12 final\n",
              "--------------------------  -----------------------------------------------------------------------------------------"
            ]
          },
          "metadata": {},
          "output_type": "display_data"
        }
      ],
      "source": [
        "h2o.init()"
      ]
    },
    {
      "cell_type": "code",
      "execution_count": null,
      "metadata": {
        "colab": {
          "base_uri": "https://localhost:8080/"
        },
        "id": "Z_0vBP6wkoCI",
        "outputId": "bb24ba97-a58b-43a7-ddce-685f2c75952c"
      },
      "outputs": [
        {
          "name": "stdout",
          "output_type": "stream",
          "text": [
            "Parse progress: |████████████████████████████████████████████████████████████████| (done) 100%\n"
          ]
        }
      ],
      "source": [
        "boston = h2o.import_file(\"https://s3.amazonaws.com/h2o-public-test-data/smalldata/gbm_test/BostonHousing.csv\")\n",
        "\n",
        "# Podział danych na zbiór treningowy i testowy (70/30)\n",
        "train, test = boston.split_frame(ratios=[0.7], seed=42)"
      ]
    },
    {
      "cell_type": "code",
      "execution_count": null,
      "metadata": {
        "id": "4hg1KWMclrda"
      },
      "outputs": [],
      "source": [
        "y = \"medv\"  # zmienna docelowa (mediana wartości domów)\n",
        "x = boston.columns  # wszystkie kolumny są predyktorami, ale...\n",
        "x.remove(y)         # ...usuwamy zmienną docelową\n",
        "x.remove(\"chas\")"
      ]
    },
    {
      "cell_type": "code",
      "execution_count": null,
      "metadata": {
        "colab": {
          "base_uri": "https://localhost:8080/",
          "height": 1000
        },
        "id": "CABiRSJ-l4WD",
        "outputId": "5c52c45a-7257-4c31-aa57-b0fbcf72c751"
      },
      "outputs": [
        {
          "name": "stdout",
          "output_type": "stream",
          "text": [
            "AutoML progress: |\n",
            "22:41:39.766: User specified a validation frame with cross-validation still enabled. Please note that the models will still be validated using cross-validation only, the validation frame will be used to provide purely informative validation metrics on the trained models.\n",
            "\n",
            "███████████████████████████████████████████████████████████████| (done) 100%\n"
          ]
        },
        {
          "data": {
            "text/html": [
              "<pre style='margin: 1em 0 1em 0;'>Model Details\n",
              "=============\n",
              "H2OStackedEnsembleEstimator : Stacked Ensemble\n",
              "Model Key: StackedEnsemble_BestOfFamily_4_AutoML_2_20250601_224139\n",
              "</pre>\n",
              "<div style='margin: 1em 0 1em 0;'>\n",
              "<style>\n",
              "\n",
              "#h2o-table-5.h2o-container {\n",
              "  overflow-x: auto;\n",
              "}\n",
              "#h2o-table-5 .h2o-table {\n",
              "  /* width: 100%; */\n",
              "  margin-top: 1em;\n",
              "  margin-bottom: 1em;\n",
              "}\n",
              "#h2o-table-5 .h2o-table caption {\n",
              "  white-space: nowrap;\n",
              "  caption-side: top;\n",
              "  text-align: left;\n",
              "  /* margin-left: 1em; */\n",
              "  margin: 0;\n",
              "  font-size: larger;\n",
              "}\n",
              "#h2o-table-5 .h2o-table thead {\n",
              "  white-space: nowrap; \n",
              "  position: sticky;\n",
              "  top: 0;\n",
              "  box-shadow: 0 -1px inset;\n",
              "}\n",
              "#h2o-table-5 .h2o-table tbody {\n",
              "  overflow: auto;\n",
              "}\n",
              "#h2o-table-5 .h2o-table th,\n",
              "#h2o-table-5 .h2o-table td {\n",
              "  text-align: right;\n",
              "  /* border: 1px solid; */\n",
              "}\n",
              "#h2o-table-5 .h2o-table tr:nth-child(even) {\n",
              "  /* background: #F5F5F5 */\n",
              "}\n",
              "\n",
              "</style>      \n",
              "<div id=\"h2o-table-5\" class=\"h2o-container\">\n",
              "  <table class=\"h2o-table\">\n",
              "    <caption>Model Summary for Stacked Ensemble: </caption>\n",
              "    <thead><tr><th>key</th>\n",
              "<th>value</th></tr></thead>\n",
              "    <tbody><tr><td>Stacking strategy</td>\n",
              "<td>cross_validation</td></tr>\n",
              "<tr><td>Number of base models (used / total)</td>\n",
              "<td>5/6</td></tr>\n",
              "<tr><td># GBM base models (used / total)</td>\n",
              "<td>1/1</td></tr>\n",
              "<tr><td># XGBoost base models (used / total)</td>\n",
              "<td>1/1</td></tr>\n",
              "<tr><td># DRF base models (used / total)</td>\n",
              "<td>2/2</td></tr>\n",
              "<tr><td># DeepLearning base models (used / total)</td>\n",
              "<td>1/1</td></tr>\n",
              "<tr><td># GLM base models (used / total)</td>\n",
              "<td>0/1</td></tr>\n",
              "<tr><td>Metalearner algorithm</td>\n",
              "<td>GLM</td></tr>\n",
              "<tr><td>Metalearner fold assignment scheme</td>\n",
              "<td>Random</td></tr>\n",
              "<tr><td>Metalearner nfolds</td>\n",
              "<td>5</td></tr>\n",
              "<tr><td>Metalearner fold_column</td>\n",
              "<td>None</td></tr>\n",
              "<tr><td>Custom metalearner hyperparameters</td>\n",
              "<td>None</td></tr></tbody>\n",
              "  </table>\n",
              "</div>\n",
              "</div>\n",
              "<div style='margin: 1em 0 1em 0;'><pre style='margin: 1em 0 1em 0;'>ModelMetricsRegressionGLM: stackedensemble\n",
              "** Reported on train data. **\n",
              "\n",
              "MSE: 2.5375505240671505\n",
              "RMSE: 1.5929690907444345\n",
              "MAE: 1.0886574950272307\n",
              "RMSLE: 0.06545556251111007\n",
              "Mean Residual Deviance: 2.5375505240671505\n",
              "R^2: 0.9692174173587392\n",
              "Null degrees of freedom: 348\n",
              "Residual degrees of freedom: 343\n",
              "Null deviance: 28769.68262280877\n",
              "Residual deviance: 885.6051328994356\n",
              "AIC: 1329.4076362179676</pre></div>\n",
              "<div style='margin: 1em 0 1em 0;'><pre style='margin: 1em 0 1em 0;'>ModelMetricsRegressionGLM: stackedensemble\n",
              "** Reported on validation data. **\n",
              "\n",
              "MSE: 12.215250779073578\n",
              "RMSE: 3.4950323001473933\n",
              "MAE: 2.2871239055142527\n",
              "RMSLE: 0.1741602788257698\n",
              "Mean Residual Deviance: 12.215250779073578\n",
              "R^2: 0.8618940196323288\n",
              "Null degrees of freedom: 156\n",
              "Residual degrees of freedom: 151\n",
              "Null deviance: 13973.701857037691\n",
              "Residual deviance: 1917.7943723145518\n",
              "AIC: 852.4682813084571</pre></div>\n",
              "<div style='margin: 1em 0 1em 0;'><pre style='margin: 1em 0 1em 0;'>ModelMetricsRegressionGLM: stackedensemble\n",
              "** Reported on cross-validation data. **\n",
              "\n",
              "MSE: 8.838249561159943\n",
              "RMSE: 2.9729193667437306\n",
              "MAE: 2.032300870440216\n",
              "RMSLE: 0.1252538326395979\n",
              "Mean Residual Deviance: 8.838249561159943\n",
              "R^2: 0.8927847367214476\n",
              "Null degrees of freedom: 348\n",
              "Residual degrees of freedom: 343\n",
              "Null deviance: 28801.47068648764\n",
              "Residual deviance: 3084.5490968448203\n",
              "AIC: 1764.9211025928626</pre></div>\n",
              "<div style='margin: 1em 0 1em 0;'>\n",
              "<style>\n",
              "\n",
              "#h2o-table-6.h2o-container {\n",
              "  overflow-x: auto;\n",
              "}\n",
              "#h2o-table-6 .h2o-table {\n",
              "  /* width: 100%; */\n",
              "  margin-top: 1em;\n",
              "  margin-bottom: 1em;\n",
              "}\n",
              "#h2o-table-6 .h2o-table caption {\n",
              "  white-space: nowrap;\n",
              "  caption-side: top;\n",
              "  text-align: left;\n",
              "  /* margin-left: 1em; */\n",
              "  margin: 0;\n",
              "  font-size: larger;\n",
              "}\n",
              "#h2o-table-6 .h2o-table thead {\n",
              "  white-space: nowrap; \n",
              "  position: sticky;\n",
              "  top: 0;\n",
              "  box-shadow: 0 -1px inset;\n",
              "}\n",
              "#h2o-table-6 .h2o-table tbody {\n",
              "  overflow: auto;\n",
              "}\n",
              "#h2o-table-6 .h2o-table th,\n",
              "#h2o-table-6 .h2o-table td {\n",
              "  text-align: right;\n",
              "  /* border: 1px solid; */\n",
              "}\n",
              "#h2o-table-6 .h2o-table tr:nth-child(even) {\n",
              "  /* background: #F5F5F5 */\n",
              "}\n",
              "\n",
              "</style>      \n",
              "<div id=\"h2o-table-6\" class=\"h2o-container\">\n",
              "  <table class=\"h2o-table\">\n",
              "    <caption>Cross-Validation Metrics Summary: </caption>\n",
              "    <thead><tr><th></th>\n",
              "<th>mean</th>\n",
              "<th>sd</th>\n",
              "<th>cv_1_valid</th>\n",
              "<th>cv_2_valid</th>\n",
              "<th>cv_3_valid</th>\n",
              "<th>cv_4_valid</th>\n",
              "<th>cv_5_valid</th></tr></thead>\n",
              "    <tbody><tr><td>aic</td>\n",
              "<td>360.094</td>\n",
              "<td>30.855577</td>\n",
              "<td>360.88788</td>\n",
              "<td>393.53516</td>\n",
              "<td>326.14557</td>\n",
              "<td>332.23077</td>\n",
              "<td>387.67062</td></tr>\n",
              "<tr><td>loglikelihood</td>\n",
              "<td>0.0</td>\n",
              "<td>0.0</td>\n",
              "<td>0.0</td>\n",
              "<td>0.0</td>\n",
              "<td>0.0</td>\n",
              "<td>0.0</td>\n",
              "<td>0.0</td></tr>\n",
              "<tr><td>mae</td>\n",
              "<td>2.0211833</td>\n",
              "<td>0.1312029</td>\n",
              "<td>2.0876014</td>\n",
              "<td>2.1388416</td>\n",
              "<td>1.8474334</td>\n",
              "<td>1.9151247</td>\n",
              "<td>2.1169147</td></tr>\n",
              "<tr><td>mean_residual_deviance</td>\n",
              "<td>8.898777</td>\n",
              "<td>3.3694885</td>\n",
              "<td>14.415149</td>\n",
              "<td>7.144661</td>\n",
              "<td>6.178107</td>\n",
              "<td>6.9704986</td>\n",
              "<td>9.785469</td></tr>\n",
              "<tr><td>mse</td>\n",
              "<td>8.898777</td>\n",
              "<td>3.3694885</td>\n",
              "<td>14.415149</td>\n",
              "<td>7.144661</td>\n",
              "<td>6.178107</td>\n",
              "<td>6.9704986</td>\n",
              "<td>9.785469</td></tr>\n",
              "<tr><td>null_deviance</td>\n",
              "<td>5760.294</td>\n",
              "<td>825.676</td>\n",
              "<td>5083.064</td>\n",
              "<td>6002.303</td>\n",
              "<td>5764.4043</td>\n",
              "<td>4947.062</td>\n",
              "<td>7004.6377</td></tr>\n",
              "<tr><td>r2</td>\n",
              "<td>0.8915420</td>\n",
              "<td>0.0409308</td>\n",
              "<td>0.8211799</td>\n",
              "<td>0.9055853</td>\n",
              "<td>0.9279512</td>\n",
              "<td>0.9053332</td>\n",
              "<td>0.8976603</td></tr>\n",
              "<tr><td>residual_deviance</td>\n",
              "<td>613.5757</td>\n",
              "<td>200.4246</td>\n",
              "<td>908.15436</td>\n",
              "<td>564.4282</td>\n",
              "<td>413.93314</td>\n",
              "<td>467.0234</td>\n",
              "<td>714.3393</td></tr>\n",
              "<tr><td>rmse</td>\n",
              "<td>2.9447205</td>\n",
              "<td>0.5331495</td>\n",
              "<td>3.7967286</td>\n",
              "<td>2.6729498</td>\n",
              "<td>2.4855797</td>\n",
              "<td>2.64017</td>\n",
              "<td>3.1281736</td></tr>\n",
              "<tr><td>rmsle</td>\n",
              "<td>0.1250285</td>\n",
              "<td>0.0121520</td>\n",
              "<td>0.1366951</td>\n",
              "<td>0.1297099</td>\n",
              "<td>0.1155986</td>\n",
              "<td>0.1089241</td>\n",
              "<td>0.1342148</td></tr></tbody>\n",
              "  </table>\n",
              "</div>\n",
              "</div><pre style=\"font-size: smaller; margin: 1em 0 0 0;\">\n",
              "\n",
              "[tips]\n",
              "Use `model.explain()` to inspect the model.\n",
              "--\n",
              "Use `h2o.display.toggle_user_tips()` to switch on/off this section.</pre>"
            ],
            "text/plain": [
              "Model Details\n",
              "=============\n",
              "H2OStackedEnsembleEstimator : Stacked Ensemble\n",
              "Model Key: StackedEnsemble_BestOfFamily_4_AutoML_2_20250601_224139\n",
              "\n",
              "\n",
              "Model Summary for Stacked Ensemble: \n",
              "key                                        value\n",
              "-----------------------------------------  ----------------\n",
              "Stacking strategy                          cross_validation\n",
              "Number of base models (used / total)       5/6\n",
              "# GBM base models (used / total)           1/1\n",
              "# XGBoost base models (used / total)       1/1\n",
              "# DRF base models (used / total)           2/2\n",
              "# DeepLearning base models (used / total)  1/1\n",
              "# GLM base models (used / total)           0/1\n",
              "Metalearner algorithm                      GLM\n",
              "Metalearner fold assignment scheme         Random\n",
              "Metalearner nfolds                         5\n",
              "Metalearner fold_column\n",
              "Custom metalearner hyperparameters         None\n",
              "\n",
              "ModelMetricsRegressionGLM: stackedensemble\n",
              "** Reported on train data. **\n",
              "\n",
              "MSE: 2.5375505240671505\n",
              "RMSE: 1.5929690907444345\n",
              "MAE: 1.0886574950272307\n",
              "RMSLE: 0.06545556251111007\n",
              "Mean Residual Deviance: 2.5375505240671505\n",
              "R^2: 0.9692174173587392\n",
              "Null degrees of freedom: 348\n",
              "Residual degrees of freedom: 343\n",
              "Null deviance: 28769.68262280877\n",
              "Residual deviance: 885.6051328994356\n",
              "AIC: 1329.4076362179676\n",
              "\n",
              "ModelMetricsRegressionGLM: stackedensemble\n",
              "** Reported on validation data. **\n",
              "\n",
              "MSE: 12.215250779073578\n",
              "RMSE: 3.4950323001473933\n",
              "MAE: 2.2871239055142527\n",
              "RMSLE: 0.1741602788257698\n",
              "Mean Residual Deviance: 12.215250779073578\n",
              "R^2: 0.8618940196323288\n",
              "Null degrees of freedom: 156\n",
              "Residual degrees of freedom: 151\n",
              "Null deviance: 13973.701857037691\n",
              "Residual deviance: 1917.7943723145518\n",
              "AIC: 852.4682813084571\n",
              "\n",
              "ModelMetricsRegressionGLM: stackedensemble\n",
              "** Reported on cross-validation data. **\n",
              "\n",
              "MSE: 8.838249561159943\n",
              "RMSE: 2.9729193667437306\n",
              "MAE: 2.032300870440216\n",
              "RMSLE: 0.1252538326395979\n",
              "Mean Residual Deviance: 8.838249561159943\n",
              "R^2: 0.8927847367214476\n",
              "Null degrees of freedom: 348\n",
              "Residual degrees of freedom: 343\n",
              "Null deviance: 28801.47068648764\n",
              "Residual deviance: 3084.5490968448203\n",
              "AIC: 1764.9211025928626\n",
              "\n",
              "Cross-Validation Metrics Summary: \n",
              "                        mean      sd         cv_1_valid    cv_2_valid    cv_3_valid    cv_4_valid    cv_5_valid\n",
              "----------------------  --------  ---------  ------------  ------------  ------------  ------------  ------------\n",
              "aic                     360.094   30.8556    360.888       393.535       326.146       332.231       387.671\n",
              "loglikelihood           0         0          0             0             0             0             0\n",
              "mae                     2.02118   0.131203   2.0876        2.13884       1.84743       1.91512       2.11691\n",
              "mean_residual_deviance  8.89878   3.36949    14.4151       7.14466       6.17811       6.9705        9.78547\n",
              "mse                     8.89878   3.36949    14.4151       7.14466       6.17811       6.9705        9.78547\n",
              "null_deviance           5760.29   825.676    5083.06       6002.3        5764.4        4947.06       7004.64\n",
              "r2                      0.891542  0.0409308  0.82118       0.905585      0.927951      0.905333      0.89766\n",
              "residual_deviance       613.576   200.425    908.154       564.428       413.933       467.023       714.339\n",
              "rmse                    2.94472   0.53315    3.79673       2.67295       2.48558       2.64017       3.12817\n",
              "rmsle                   0.125028  0.012152   0.136695      0.12971       0.115599      0.108924      0.134215\n",
              "\n",
              "[tips]\n",
              "Use `model.explain()` to inspect the model.\n",
              "--\n",
              "Use `h2o.display.toggle_user_tips()` to switch on/off this section."
            ]
          },
          "execution_count": 32,
          "metadata": {},
          "output_type": "execute_result"
        }
      ],
      "source": [
        "aml = H2OAutoML(\n",
        "    max_runtime_secs=120,  # czas eksperymentu\n",
        "    seed=42,\n",
        "    nfolds=5,              # 5-krotna walidacja krzyżowa\n",
        "    stopping_metric=\"RMSE\"\n",
        ")\n",
        "aml.train(x=x, y=y, training_frame=train, validation_frame=test)"
      ]
    },
    {
      "cell_type": "code",
      "execution_count": null,
      "metadata": {
        "colab": {
          "base_uri": "https://localhost:8080/"
        },
        "id": "skYxDC52mBlm",
        "outputId": "e70ff526-729b-4610-983f-44aea1d99b60"
      },
      "outputs": [
        {
          "name": "stdout",
          "output_type": "stream",
          "text": [
            "model_id                                                    rmse       mse      mae     rmsle    mean_residual_deviance\n",
            "StackedEnsemble_BestOfFamily_4_AutoML_2_20250601_224139  2.97292   8.83825  2.0323   0.125254                   8.83825\n",
            "StackedEnsemble_AllModels_3_AutoML_2_20250601_224139     3.05985   9.36268  2.05343  0.127512                   9.36268\n",
            "GBM_grid_1_AutoML_2_20250601_224139_model_13             3.08807   9.53615  2.15066  0.128628                   9.53615\n",
            "StackedEnsemble_BestOfFamily_3_AutoML_2_20250601_224139  3.1185    9.72506  2.08706  0.128327                   9.72506\n",
            "StackedEnsemble_AllModels_2_AutoML_2_20250601_224139     3.12956   9.79417  2.10039  0.128773                   9.79417\n",
            "GBM_grid_1_AutoML_2_20250601_224139_model_5              3.13144   9.80592  2.1342   0.134655                   9.80592\n",
            "GBM_grid_1_AutoML_2_20250601_224139_model_4              3.1794   10.1086   2.17229  0.130919                  10.1086\n",
            "GBM_grid_1_AutoML_2_20250601_224139_model_1              3.19894  10.2332   2.11908  0.133853                  10.2332\n",
            "StackedEnsemble_BestOfFamily_2_AutoML_2_20250601_224139  3.20404  10.2659   2.17796  0.131286                  10.2659\n",
            "XGBoost_3_AutoML_2_20250601_224139                       3.22428  10.396    2.30522  0.136849                  10.396\n",
            "[10 rows x 6 columns]\n",
            "\n"
          ]
        }
      ],
      "source": [
        "lb = aml.leaderboard\n",
        "print(lb.head())"
      ]
    },
    {
      "cell_type": "code",
      "execution_count": null,
      "metadata": {
        "colab": {
          "base_uri": "https://localhost:8080/"
        },
        "id": "IkCdm5LSmsdG",
        "outputId": "71296e11-b107-421f-b74f-9a7526f15ee4"
      },
      "outputs": [
        {
          "name": "stdout",
          "output_type": "stream",
          "text": [
            "stackedensemble prediction progress: |███████████████████████████████████████████| (done) 100%\n"
          ]
        },
        {
          "name": "stderr",
          "output_type": "stream",
          "text": [
            "/usr/local/lib/python3.11/dist-packages/h2o/frame.py:1983: H2ODependencyWarning: Converting H2O frame to pandas dataframe using single-thread.  For faster conversion using multi-thread, install polars and pyarrow and use it as pandas_df = h2o_df.as_data_frame(use_multi_thread=True)\n",
            "\n",
            "  warnings.warn(\"Converting H2O frame to pandas dataframe using single-thread.  For faster conversion using\"\n"
          ]
        }
      ],
      "source": [
        "best_model = aml.leader\n",
        "pred = best_model.predict(test)\n",
        "\n",
        "# Połączenie wyników z danymi testowymi\n",
        "results = test.cbind(pred)\n",
        "results = results[:, [\"medv\", \"predict\"]]\n",
        "results = results.as_data_frame()"
      ]
    },
    {
      "cell_type": "code",
      "execution_count": null,
      "metadata": {
        "colab": {
          "base_uri": "https://localhost:8080/",
          "height": 1000
        },
        "id": "HRgYw6QAmwoW",
        "outputId": "6b68ab59-6b5b-4ed6-b520-89fd6ee6645b"
      },
      "outputs": [
        {
          "data": {
            "image/png": "[encoded data removed]",
            "text/plain": [
              "<Figure size 1000x600 with 1 Axes>"
            ]
          },
          "metadata": {},
          "output_type": "display_data"
        },
        {
          "data": {
            "image/png": "[encoded data removed]",
            "text/plain": [
              "<Figure size 1000x600 with 1 Axes>"
            ]
          },
          "metadata": {},
          "output_type": "display_data"
        }
      ],
      "source": [
        "performance = best_model.model_performance(test_data=test)\n",
        "# Wizualizacja wyników\n",
        "plt.figure(figsize=(10, 6))\n",
        "plt.scatter(results[\"medv\"], results[\"predict\"])\n",
        "plt.plot([results[\"medv\"].min(), results[\"medv\"].max()],\n",
        "         [results[\"medv\"].min(), results[\"medv\"].max()],\n",
        "         'r--', lw=2)\n",
        "plt.title(\"Rzeczywiste vs Przewidywane wartości\")\n",
        "plt.xlabel(\"Rzeczywiste MEDV\")\n",
        "plt.ylabel(\"Przewidywane MEDV\")\n",
        "plt.grid(True)\n",
        "plt.show()\n",
        "\n",
        "# Histogram błędów\n",
        "errors = results[\"medv\"] - results[\"predict\"]\n",
        "plt.figure(figsize=(10, 6))\n",
        "plt.hist(errors, bins=30, edgecolor='black')\n",
        "plt.title(\"Rozkład błędów predykcji\")\n",
        "plt.xlabel(\"Błąd (Rzeczywiste - Przewidywane)\")\n",
        "plt.ylabel(\"Liczba próbek\")\n",
        "plt.axvline(x=0, color='r', linestyle='--')\n",
        "plt.show()"
      ]
    },
    {
      "cell_type": "code",
      "execution_count": null,
      "metadata": {
        "colab": {
          "background_save": true,
          "base_uri": "https://localhost:8080/"
        },
        "id": "buDSWRrMm2Nb",
        "outputId": "22bfda6f-6661-4db7-84a1-0aa5f002c894"
      },
      "outputs": [
        {
          "name": "stdout",
          "output_type": "stream",
          "text": [
            "gbm Grid Build progress: |███████████████████████████████████████████████████████| (done) 100%\n",
            "Hyper-Parameter Search Summary: ordered by increasing rmse\n",
            "     learn_rate    max_depth    ntrees    model_ids          rmse\n",
            "---  ------------  -----------  --------  -----------------  ------------------\n",
            "     0.1           3.0          81.0      gbm_grid_model_20  3.5117098393672013\n",
            "     0.1           3.0          81.0      gbm_grid_model_8   3.5117098393672013\n",
            "     0.1           7.0          72.0      gbm_grid_model_12  3.51688620947874\n",
            "     0.1           7.0          72.0      gbm_grid_model_24  3.51688620947874\n",
            "     0.1           5.0          68.0      gbm_grid_model_10  3.584263506234962\n",
            "     0.1           5.0          68.0      gbm_grid_model_22  3.584263506234962\n",
            "     0.1           7.0          47.0      gbm_grid_model_18  3.6315049339135697\n",
            "     0.1           7.0          47.0      gbm_grid_model_6   3.6315049339135697\n",
            "     0.1           3.0          50.0      gbm_grid_model_14  3.6494404339229827\n",
            "     0.1           3.0          50.0      gbm_grid_model_2   3.6494404339229827\n",
            "---  ---           ---          ---       ---                ---\n",
            "     0.01          5.0          100.0     gbm_grid_model_21  5.126194108911091\n",
            "     0.01          5.0          100.0     gbm_grid_model_9   5.126194108911091\n",
            "     0.01          3.0          100.0     gbm_grid_model_19  5.264179122433009\n",
            "     0.01          3.0          100.0     gbm_grid_model_7   5.264179122433009\n",
            "     0.01          7.0          50.0      gbm_grid_model_17  6.477471660995919\n",
            "     0.01          7.0          50.0      gbm_grid_model_5   6.477471660995919\n",
            "     0.01          5.0          50.0      gbm_grid_model_15  6.494824868179089\n",
            "     0.01          5.0          50.0      gbm_grid_model_3   6.494824868179089\n",
            "     0.01          3.0          50.0      gbm_grid_model_1   6.606813780032418\n",
            "     0.01          3.0          50.0      gbm_grid_model_13  6.606813780032418\n",
            "[24 rows x 6 columns]\n",
            "\n",
            "Best GBM RMSE: 3.4993\n",
            "Best GBM parameters: {'model_id': 'gbm_grid_model_20', 'training_frame': 'py_13_sid_b81a', 'validation_frame': 'py_14_sid_b81a', 'nfolds': 5, 'keep_cross_validation_models': True, 'keep_cross_validation_predictions': False, 'keep_cross_validation_fold_assignment': False, 'score_each_iteration': True, 'score_tree_interval': 0, 'fold_assignment': 'Random', 'fold_column': None, 'response_column': 'medv', 'ignored_columns': ['chas'], 'ignore_const_cols': True, 'offset_column': None, 'weights_column': None, 'balance_classes': False, 'class_sampling_factors': None, 'max_after_balance_size': 5.0, 'max_confusion_matrix_size': 20, 'ntrees': 81, 'max_depth': 3, 'min_rows': 10.0, 'nbins': 20, 'nbins_top_level': 1024, 'nbins_cats': 1024, 'r2_stopping': 1.7976931348623157e+308, 'stopping_rounds': 0, 'stopping_metric': 'RMSE', 'stopping_tolerance': 0.001, 'max_runtime_secs': 0.0, 'seed': 42, 'build_tree_one_node': False, 'learn_rate': 0.1, 'learn_rate_annealing': 1.0, 'distribution': 'gaussian', 'quantile_alpha': 0.5, 'tweedie_power': 1.5, 'huber_alpha': 0.9, 'checkpoint': None, 'sample_rate': 1.0, 'sample_rate_per_class': None, 'col_sample_rate': 1.0, 'col_sample_rate_change_per_level': 1.0, 'col_sample_rate_per_tree': 1.0, 'min_split_improvement': 1e-05, 'histogram_type': 'UniformAdaptive', 'max_abs_leafnode_pred': 1.7976931348623157e+308, 'pred_noise_bandwidth': 0.0, 'categorical_encoding': 'Enum', 'calibrate_model': False, 'calibration_frame': None, 'calibration_method': 'PlattScaling', 'custom_metric_func': None, 'custom_distribution_func': None, 'export_checkpoints_dir': None, 'in_training_checkpoints_dir': None, 'in_training_checkpoints_tree_interval': 1, 'monotone_constraints': None, 'check_constant_response': True, 'gainslift_bins': -1, 'auc_type': 'AUTO', 'interaction_constraints': None, 'auto_rebalance': True}\n",
            "\n",
            "Full model performance metrics:\n",
            "ModelMetricsRegression: gbm\n",
            "** Reported on test data. **\n",
            "\n",
            "MSE: 12.245207313986153\n",
            "RMSE: 3.499315263588886\n",
            "MAE: 2.3670405375598174\n",
            "RMSLE: 0.17755126300287102\n",
            "Mean Residual Deviance: 12.245207313986153\n"
          ]
        }
      ],
      "source": [
        "from h2o.grid.grid_search import H2OGridSearch\n",
        "from h2o.estimators.gbm import H2OGradientBoostingEstimator\n",
        "\n",
        "# Definicja hiperparametrów do tuningu\n",
        "gbm_params = {\n",
        "    \"learn_rate\": [0.01, 0.1],\n",
        "    \"max_depth\": [3, 5, 7],\n",
        "    \"ntrees\": [50, 100]\n",
        "}\n",
        "\n",
        "# Utworzenie modelu bazowego GBM z ustalonymi parametrami\n",
        "gbm_base = H2OGradientBoostingEstimator(\n",
        "    nfolds=5,\n",
        "    seed=42,\n",
        "    stopping_metric=\"RMSE\",\n",
        "    stopping_rounds=5,\n",
        "    score_each_iteration=True\n",
        ")\n",
        "\n",
        "# Utworzenie i uruchomienie grid search\n",
        "gbm_grid = H2OGridSearch(\n",
        "    model=gbm_base,\n",
        "    grid_id=\"gbm_grid\",\n",
        "    hyper_params=gbm_params\n",
        ")\n",
        "\n",
        "gbm_grid.train(\n",
        "    x=x,\n",
        "    y=y,\n",
        "    training_frame=train,\n",
        "    validation_frame=test\n",
        ")\n",
        "\n",
        "# Pobranie wyników grid search\n",
        "grid_perf = gbm_grid.get_grid(sort_by=\"rmse\", decreasing=False)\n",
        "\n",
        "# Wyświetlenie rankingu modeli\n",
        "print(grid_perf)\n",
        "\n",
        "# Wybór najlepszego modelu z grid search\n",
        "best_gbm = grid_perf.models[0]\n",
        "\n",
        "# Ocena najlepszego modelu na zbiorze testowym\n",
        "gbm_perf = best_gbm.model_performance(test)\n",
        "print(f\"Best GBM RMSE: {gbm_perf.rmse():.4f}\")\n",
        "print(f\"Best GBM parameters: {best_gbm.actual_params}\")\n",
        "\n",
        "# Wyświetlenie metryk\n",
        "print(\"\\nFull model performance metrics:\")\n",
        "print(gbm_perf)"
      ]
    },
    {
      "cell_type": "code",
      "execution_count": null,
      "metadata": {
        "colab": {
          "background_save": true
        },
        "id": "Vn1CCzgMpq7A"
      },
      "outputs": [],
      "source": []
    },
    {
      "cell_type": "code",
      "execution_count": null,
      "metadata": {
        "colab": {
          "background_save": true
        },
        "id": "3mpIYNImp4Wr"
      },
      "outputs": [],
      "source": []
    }
  ],
  "metadata": {
    "colab": {
      "provenance": []
    },
    "kernelspec": {
      "display_name": "Python 3",
      "name": "python3"
    },
    "language_info": {
      "name": "python"
    }
  },
  "nbformat": 4,
  "nbformat_minor": 0
}